{
 "cells": [
  {
   "cell_type": "code",
   "execution_count": 6,
   "metadata": {},
   "outputs": [
    {
     "name": "stdout",
     "output_type": "stream",
     "text": [
      "Hidden states: [0. 0. 1. ... 1. 0. 0.]\n"
     ]
    },
    {
     "data": {
      "image/png": "[encoded data removed]",
      "text/plain": [
       "<Figure size 640x480 with 1 Axes>"
      ]
     },
     "metadata": {},
     "output_type": "display_data"
    },
    {
     "name": "stdout",
     "output_type": "stream",
     "text": [
      "Hidden states: [0. 1. 1. ... 0. 1. 1.]\n"
     ]
    },
    {
     "data": {
      "image/png": "[encoded data removed]",
      "text/plain": [
       "<Figure size 640x480 with 1 Axes>"
      ]
     },
     "metadata": {},
     "output_type": "display_data"
    },
    {
     "name": "stdout",
     "output_type": "stream",
     "text": [
      "Hidden states: [1. 1. 0. ... 1. 1. 1.]\n"
     ]
    },
    {
     "data": {
      "image/png": "[encoded data removed]",
      "text/plain": [
       "<Figure size 640x480 with 1 Axes>"
      ]
     },
     "metadata": {},
     "output_type": "display_data"
    }
   ],
   "source": [
    "import torch\n",
    "import torch.nn as nn\n",
    "import torch.optim as optim\n",
    "import matplotlib.pyplot as plt\n",
    "\n",
    "class SimpleGenerativeNetwork(nn.Module):\n",
    "    def __init__(self, n_hidden=2):\n",
    "        super(SimpleGenerativeNetwork, self).__init__()\n",
    "        \n",
    "        # Define the size of our layers\n",
    "        self.n_hidden = n_hidden        # Number of hidden units (features)\n",
    "        self.image_size = 8             # We'll generate 8x8 images\n",
    "        self.n_visible = 64             # 8x8 = 64 pixels\n",
    "        \n",
    "        # This layer transforms our hidden units into pixel probabilities\n",
    "        # Each hidden unit will influence every pixel in the output\n",
    "        self.generative_layer = nn.Linear(n_hidden, self.n_visible)\n",
    "        \n",
    "        # This layer helps us infer hidden unit states from images\n",
    "        # It's the opposite direction of the generative layer\n",
    "        self.recognition_layer = nn.Linear(self.n_visible, n_hidden)\n",
    "        \n",
    "        # Sigmoid activation to convert numbers into probabilities\n",
    "        self.sigmoid = nn.Sigmoid()\n",
    "\n",
    "    def generate(self, hidden_states):\n",
    "        \"\"\"Generate an image from hidden unit states\"\"\"\n",
    "        # Convert hidden states into pixel probabilities\n",
    "        pixel_probs = self.sigmoid(self.generative_layer(hidden_states))\n",
    "        \n",
    "        # Reshape into a square image\n",
    "        return pixel_probs.view(-1, 8, 8)\n",
    "    \n",
    "    def infer_hidden(self, images):\n",
    "        \"\"\"Infer probable hidden unit states from an image\"\"\"\n",
    "        # Flatten the image\n",
    "        flat_images = images.view(-1, self.n_visible)\n",
    "        \n",
    "        # Compute probabilities for hidden units\n",
    "        hidden_probs = self.sigmoid(self.recognition_layer(flat_images))\n",
    "        return hidden_probs\n",
    "\n",
    "    def sample_hidden(self):\n",
    "        \"\"\"Generate random hidden unit states\"\"\"\n",
    "        # Each hidden unit has 0.5 probability of being active\n",
    "        return torch.bernoulli(torch.ones(1, self.n_hidden) * 0.5)\n",
    "\n",
    "# Create the network\n",
    "net = SimpleGenerativeNetwork(n_hidden=2500)\n",
    "\n",
    "# Function to display an image\n",
    "def show_image(img):\n",
    "    plt.imshow(img.detach().numpy(), cmap='gray')\n",
    "    plt.axis('off')\n",
    "    plt.show()\n",
    "\n",
    "# Generate and show some examples\n",
    "for _ in range(3):\n",
    "    # Sample random hidden states\n",
    "    hidden_states = net.sample_hidden()\n",
    "    \n",
    "    # Generate an image\n",
    "    generated_image = net.generate(hidden_states)\n",
    "    \n",
    "    # Show the image and the hidden states that created it\n",
    "    print(f\"Hidden states: {hidden_states.numpy().flatten()}\")\n",
    "    show_image(generated_image[0])\n"
   ]
  },
  {
   "cell_type": "code",
   "execution_count": 7,
   "metadata": {},
   "outputs": [
    {
     "name": "stdout",
     "output_type": "stream",
     "text": [
      "\n",
      "Inferred hidden states for vertical line: [0.50377786 0.4542027  0.52043    ... 0.56939816 0.39723423 0.515862  ]\n"
     ]
    }
   ],
   "source": [
    "test_image = torch.zeros(1, 8, 8)\n",
    "test_image[:, :, 3:5] = 1  # Create a vertical line in the middle\n",
    "\n",
    "# Infer hidden states\n",
    "hidden_probs = net.infer_hidden(test_image)\n",
    "print(\"\\nInferred hidden states for vertical line:\", hidden_probs.detach().numpy().flatten())\n"
   ]
  },
  {
   "cell_type": "code",
   "execution_count": 12,
   "metadata": {},
   "outputs": [
    {
     "name": "stdout",
     "output_type": "stream",
     "text": [
      "Epoch 200, Loss: 0.1875\n",
      "Epoch 400, Loss: 0.1875\n",
      "Epoch 600, Loss: 0.1875\n",
      "Epoch 800, Loss: 0.1875\n",
      "Epoch 1000, Loss: 0.1875\n",
      "\n",
      "After training:\n",
      "\n",
      "Pattern for hidden unit 1:\n"
     ]
    },
    {
     "data": {
      "image/png": "[encoded data removed]",
      "text/plain": [
       "<Figure size 640x480 with 1 Axes>"
      ]
     },
     "metadata": {},
     "output_type": "display_data"
    },
    {
     "name": "stdout",
     "output_type": "stream",
     "text": [
      "\n",
      "Pattern for hidden unit 2:\n"
     ]
    },
    {
     "data": {
      "image/png": "[encoded data removed]",
      "text/plain": [
       "<Figure size 640x480 with 1 Axes>"
      ]
     },
     "metadata": {},
     "output_type": "display_data"
    }
   ],
   "source": [
    "\n",
    "# Let's train the network to generate some simple patterns\n",
    "optimizer = optim.Adam(net.parameters(), lr=0.1)\n",
    "\n",
    "# Create training data: vertical and horizontal lines\n",
    "vertical_line = torch.zeros(1, 8, 8)\n",
    "vertical_line[:, :, 3:5] = 1\n",
    "\n",
    "horizontal_line = torch.zeros(1, 8, 8)\n",
    "horizontal_line[:, 3:5, :] = 1\n",
    "\n",
    "training_data = torch.stack([vertical_line, horizontal_line])\n",
    "\n",
    "# Training loop\n",
    "for epoch in range(1000):\n",
    "    optimizer.zero_grad()\n",
    "    \n",
    "    # Try to reconstruct the training images\n",
    "    hidden_states = net.infer_hidden(training_data)\n",
    "    reconstructed = net.generate(hidden_states)\n",
    "    \n",
    "    # Compute reconstruction loss\n",
    "    loss = nn.MSELoss()(reconstructed, training_data)\n",
    "    \n",
    "    # Update weights\n",
    "    loss.backward()\n",
    "    optimizer.step()\n",
    "    \n",
    "    if (epoch + 1) % 200 == 0:\n",
    "        print(f\"Epoch {epoch + 1}, Loss: {loss.item():.4f}\")\n",
    "\n",
    "# Show what we learned\n",
    "print(\"\\nAfter training:\")\n",
    "for i in range(2):\n",
    "    # Create a hidden state with only one unit active\n",
    "    hidden = torch.zeros(1, net.n_hidden)\n",
    "    hidden[0, i] = 1\n",
    "    \n",
    "    # Generate and show the pattern this hidden unit learned\n",
    "    pattern = net.generate(hidden)\n",
    "    print(f\"\\nPattern for hidden unit {i+1}:\")\n",
    "    show_image(pattern[0])"
   ]
  },
  {
   "cell_type": "code",
   "execution_count": null,
   "metadata": {},
   "outputs": [],
   "source": []
  }
 ],
 "metadata": {
  "kernelspec": {
   "display_name": "pytorch_venv",
   "language": "python",
   "name": "python3"
  },
  "language_info": {
   "codemirror_mode": {
    "name": "ipython",
    "version": 3
   },
   "file_extension": ".py",
   "mimetype": "text/x-python",
   "name": "python",
   "nbconvert_exporter": "python",
   "pygments_lexer": "ipython3",
   "version": "3.10.15"
  }
 },
 "nbformat": 4,
 "nbformat_minor": 2
}
